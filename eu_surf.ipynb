{
 "cells": [
  {
   "cell_type": "code",
   "execution_count": 82,
   "metadata": {},
   "outputs": [],
   "source": [
    "import pandas as pd\n",
    "import numpy as np\n",
    "import h5py\n",
    "import scipy.io as sio\n",
    "import scipy.signal \n",
    "import datetime\n",
    "from skrebate import SURF\n",
    "from sklearn import svm\n",
    "from sklearn.model_selection import cross_validate\n",
    "from sklearn.model_selection import train_test_split\n",
    "from sklearn.model_selection import TimeSeriesSplit\n",
    "from sklearn.model_selection import GridSearchCV\n",
    "from sklearn.metrics import classification_report\n",
    "from sklearn.pipeline import make_pipeline\n",
    "from skrebate import SURF\n",
    "from sklearn.ensemble import RandomForestClassifier\n",
    "from sklearn.model_selection import cross_val_score\n",
    "import matplotlib.pyplot as plt\n",
    "import os \n",
    "import pickle\n",
    "import collections"
   ]
  },
  {
   "cell_type": "code",
   "execution_count": 41,
   "metadata": {},
   "outputs": [],
   "source": [
    "def archive_data(obj, filename):\n",
    "    with open(filename, 'wb') as f:\n",
    "        pickle.dump(obj, f)\n",
    "        \n",
    "def load_file(filename):\n",
    "    with open(filename, 'rb') as f:\n",
    "        return pickle.load(f)\n",
    "    \n",
    "def resample_data(data, num_samps):\n",
    "    random_samp_idx = sorted(np.random.randint(data.shape[0], size=num_samps))\n",
    "    return data[random_samp_idx,:]\n",
    "\n"
   ]
  },
  {
   "cell_type": "code",
   "execution_count": 48,
   "metadata": {
    "scrolled": true
   },
   "outputs": [
    {
     "name": "stdout",
     "output_type": "stream",
     "text": [
      "Record 60 Ic: [0:0] (0.0s) Subclinical: [44160:44492] (13.28s)\n",
      "Record 64 Ic: [0:0] (0.0s) Subclinical: [88371:89267] (35.84s)\n",
      "Record 66 Ic: [0:0] (0.0s) Subclinical: [29465:30054] (23.56s)\n",
      "Record 70 Ic: [0:0] (0.0s) Subclinical: [10828:11545] (28.68s)\n",
      "Record 73 Ic: [79482:82593] (124.44s) Subclinical: [0:0] (0.0s)\n",
      "Record 80 Ic: [0:0] (0.0s) Subclinical: [7116:7987] (34.84s)\n",
      "Record 81 Ic: [0:0] (0.0s) Subclinical: [36864:40268] (136.16s)\n",
      "Record 82 Ic: [0:0] (0.0s) Subclinical: [26214:27110] (35.84s)\n",
      "Record 85 Ic: [0:0] (0.0s) Subclinical: [79692:80000] (12.32s)\n",
      "Record 88 Ic: [0:0] (0.0s) Subclinical: [28723:29030] (12.28s)\n",
      "Record 91 Ic: [0:0] (0.0s) Subclinical: [43904:45081] (47.08s)\n",
      "Record 93 Ic: [0:0] (0.0s) Subclinical: [10240:10521] (11.24s)\n",
      "Record 96 Ic: [69586:72599] (120.52s) Subclinical: [0:0] (0.0s)\n",
      "Record 101 Ic: [15945:19056] (124.44s) Subclinical: [0:0] (0.0s)\n",
      "Record 120 Ic: [52250:56278] (161.12s) Subclinical: [0:0] (0.0s)\n",
      "Record 122 Ic: [8294:11440] (125.84s) Subclinical: [0:0] (0.0s)\n",
      "Record 124 Ic: [70972:74051] (123.16s) Subclinical: [0:0] (0.0s)\n",
      "Record 126 Ic: [45843:49528] (147.4s) Subclinical: [0:0] (0.0s)\n",
      "Record 148 Ic: [24420:26290] (74.8s) Subclinical: [0:0] (0.0s)\n"
     ]
    }
   ],
   "source": [
    "data_dir = r'C:\\Users\\hfran\\Desktop\\FRANCIS\\TWH113'\n",
    "usb_dir = r'E:\\OneDrive - University of Toronto\\Thesis\\pat_FR_1096'\n",
    "data_lim = 165\n",
    "#prefix = 'EDMSE_pat_FR_1096_{:03d}.mat'\n",
    "prefix = 'TWH113_'\n",
    "filenames = [ os.path.join(data_dir, prefix.format(i)) for i in range(data_lim)]\n",
    "archive_data_ena = True\n",
    "sample_data_ena = False\n",
    "\n",
    "for filename in filenames:\n",
    "    if not os.path.isfile(filename):\n",
    "        pass\n",
    "    else:\n",
    "        # file downloaded. can open\n",
    "        f = h5py.File(filename,'r')\n",
    "        record_idx = int(f['record_idx'].value[0][0])\n",
    "        sample_sz_onset = f['sample_sz_onset']\n",
    "        sample_sz_end = f['sample_sz_end']\n",
    "        sample_scsz_onset = f['sample_scsz_onset']\n",
    "        sample_scsz_end = f['sample_scsz_end']\n",
    "\n",
    "        onset_index = int(f[sample_sz_onset.value[0][0]].value[0][0])\n",
    "        end_index = int(f[sample_sz_end.value[0][0]].value[0][0])\n",
    "        sc_onset_index = int(f[sample_scsz_onset.value[0][0]].value[0][0])\n",
    "        sc_end_index = int(f[sample_scsz_end.value[0][0]].value[0][0])\n",
    "        \n",
    "        \n",
    "\n",
    "        #print(sample_sz_onset, sample_sz_end)\n",
    "        if onset_index != 0 or sc_onset_index != 0:\n",
    "            print(\"Record {} Ic: [{}:{}] ({}s) Subclinical: [{}:{}] ({}s)\".format(record_idx, onset_index,end_index,(end_index-onset_index)/25,sc_onset_index, sc_end_index,(sc_end_index-sc_onset_index)/25))\n",
    "                \n",
    "        if onset_index != 0:\n",
    "            sz_data = f['se_concat'][:,onset_index:end_index].transpose()\n",
    "            sz_len = end_index - onset_index\n",
    "            pre_ictal = f['se_concat'][:, onset_index-8000: end_index-9000].transpose()\n",
    "            if archive_data_ena: \n",
    "                archive_data(sz_data, 'data\\\\pat_fr_1096_record_{:03d}_sz.pickle'.format(record_idx))\n",
    "                archive_data(pre_ictal, 'data\\\\pat_fr_1096_record_{:03d}_presz.pickle'.format(record_idx))\n",
    "            \n",
    "        elif sc_onset_index != 0:\n",
    "            scsz_data = f['se_concat'][:,sc_onset_index:sc_end_index].transpose()\n",
    "            if sample_data_ena:\n",
    "                random_samp_idx = sorted(np.random.randint(scsz_data.shape[0], size=256))\n",
    "                scsz_data = scsz_data[random_samp_idx,:]\n",
    "            if archive_data_ena: archive_data(scsz_data, 'data\\\\pat_fr_1096_record_{:03d}_scsz.pickle'.format(record_idx))\n",
    "        \n",
    "        f.close()\n",
    "        continue \n",
    "        \n",
    "        if True: pass\n",
    "        else: \n",
    "            if sample_data_ena:\n",
    "                print(\"Record {} Interictal \".format(record_idx))\n",
    "                all_interictal_data = f['se_concat'][:,:].transpose()\n",
    "                random_samp_idx = sorted(np.random.randint(all_interictal_data.shape[0], size=500))\n",
    "                interictal_data = all_interictal_data[random_samp_idx,:]\n",
    "                if archive_data_ena: archive_data(interictal_data, 'data\\\\pat_fr_1096_record_{:03d}_inic.pickle'.format(record_idx))\n",
    "\n",
    "        f.close()"
   ]
  },
  {
   "cell_type": "code",
   "execution_count": 49,
   "metadata": {},
   "outputs": [
    {
     "name": "stdout",
     "output_type": "stream",
     "text": [
      "ProcessedData:  {'inic': 4000, 'scsz': 2816, 'presz': 17043, 'sz': 25043}\n"
     ]
    }
   ],
   "source": [
    "def get_data_records():\n",
    "    '''\n",
    "    for data stored in pickle format, return record idx and prefixes for all files in folder\n",
    "    '''\n",
    "    data_dir = 'data'\n",
    "    # otherwise directories will get included too \n",
    "    onlyfiles = [os.path.join(data_dir, f) for f in os.listdir(data_dir) if os.path.isfile(os.path.join(data_dir, f))]\n",
    "    onlyfiles = sorted(onlyfiles, key = lambda x: int(x.split('_')[4]) )\n",
    "    \n",
    "    data_records = []\n",
    "    num_samples = {}\n",
    "    for file in onlyfiles:\n",
    "        record_idx = int(file.split('_')[4])\n",
    "\n",
    "        if '_sz' in file:\n",
    "            record_type = 'sz'\n",
    "        elif '_scsz' in file:\n",
    "            record_type = 'scsz'\n",
    "        elif '_inic' in file:\n",
    "            record_type = 'inic'\n",
    "        elif '_presz' in file:\n",
    "            record_type = 'presz'\n",
    "        else:\n",
    "            record_type = 'unknown'\n",
    "            print(\"unknown data type in\", file)\n",
    "        \n",
    "        dat = (record_idx, record_type, load_file(file))\n",
    "        if record_type not in num_samples: num_samples[record_type] = 0 \n",
    "        num_samples[record_type] += dat[2].shape[0]\n",
    "        data_records.append(dat)\n",
    "        #(record_idx, record_type, data)\n",
    "    \n",
    "    print(\"ProcessedData: \",num_samples)\n",
    "    return data_records\n",
    "\n",
    "all_dat = get_data_records()"
   ]
  },
  {
   "cell_type": "code",
   "execution_count": 104,
   "metadata": {},
   "outputs": [],
   "source": [
    "# create datasets for sampling \n",
    "'''\n",
    "Datasets for Training and Testing are created as follows: \n",
    "for s in seizures:\n",
    "    X_train = sorted( ictals + subclinicals + intericitals )\n",
    "    X_test = s \n",
    "    surf ( random sampling of X_train)\n",
    "    svm.train (X_train)\n",
    "    result = svm_test(X_test)\n",
    "    performances.append(result)\n",
    "'''\n",
    "\n",
    "def generate_labels(data, loo_seizure):\n",
    "    # generate labels for dataset, leaving out specified datarecord \n",
    "    \n",
    "    labels = {\n",
    "        'sz': 1,\n",
    "        'scsz': 0,\n",
    "        'presz': 2,\n",
    "        'inic': 0\n",
    "    }\n",
    "    \n",
    "    X_train = np.vstack([ d[2] for d in data if d[0] != loo_seizure ])\n",
    "    y_train = np.concatenate([ np.ones(d[2].shape[0]) * labels[d[1]] for d in data if d[0] != loo_seizure ])\n",
    "    \n",
    "    X_test = np.vstack([ d[2] for d in data if d[0] == loo_seizure ])\n",
    "    y_test = np.concatenate([ np.ones(d[2].shape[0]) * labels[d[1]] for d in data if d[0] == loo_seizure ])\n",
    "    \n",
    "    return X_train, y_train, X_test, y_test\n",
    "    \n",
    "\n",
    "all_ictals = [indx for indx, x in enumerate(all_dat) if x[1] == 'sz' ]\n",
    "# surfs = []\n",
    "\n",
    "    \n",
    "def training_loop(all_dat, all_ictals, cache):\n",
    "    scores = []\n",
    "    for s_idx in all_ictals:\n",
    "        # s = test set \n",
    "        s = all_dat[s_idx]\n",
    "\n",
    "        # construct X_train from remaining seizures, subclinicalictal files, and interictal files \n",
    "\n",
    "        # load training data and create labels\n",
    "        # X_train, y_train = load_data(sorted_list)\n",
    "        X_train, y_train, X_test, y_test = generate_labels(all_dat, loo_seizure = s[0])\n",
    "        assert(X_train.shape[0] == y_train.shape[0])\n",
    "        assert(X_test.shape[0] == y_test.shape[0])\n",
    "        print(\"Training Set Size: {}, Test Set Size: {}\".format(X_train.shape, X_test.shape))\n",
    "\n",
    "        # Generate Random Sampling of TrainingData for SURF\n",
    "        surf_trainx,surf_testx, surf_trainy, surf_testy = train_test_split( X_train, y_train, train_size = 500, random_state = 55)\n",
    "\n",
    "\n",
    "        surf = SURF(n_features_to_select=250, n_jobs=-1, verbose = True)\n",
    "        surf.fit(surf_trainx, surf_trainy)\n",
    "\n",
    "        svm_clf = svm.LinearSVC()\n",
    "        svm_clf.fit(surf.transform(X_train),y_train)    \n",
    "        score = svm_clf.score(surf.transform(X_test), y_test)\n",
    "\n",
    "        scores.append(score)\n",
    "        cache.append([surf, svm_clf, score])\n",
    "    print(\"Training Achieved Score of \", sum(scores)/len(scores))\n",
    "\n",
    "\n",
    "    \n",
    "\n",
    "def testing_loop(all_dat, all_ictals, cache):\n",
    "    # Whittle number of features from 250 to 10 and evaluate average performance \n",
    "    avg_scores = []\n",
    "    for num_features in range(250,10,-25):\n",
    "        scores = []\n",
    "        for c_idx, s_idx in enumerate(all_ictals):\n",
    "            # s = test set \n",
    "            s = all_dat[s_idx]\n",
    "\n",
    "            X_train, y_train, X_test, y_test = generate_labels(all_dat, loo_seizure = s[0])\n",
    "            assert(X_train.shape[0] == y_train.shape[0])\n",
    "            assert(X_test.shape[0] == y_test.shape[0])\n",
    "\n",
    "            # Generate Random Sampling of TrainingData for SURF\n",
    "\n",
    "            surf = cache[c_idx][0]\n",
    "            surf.n_features_to_select=num_features \n",
    "            \n",
    "            svm_clf = svm.LinearSVC()\n",
    "            svm_clf.fit(surf.transform(X_train),y_train)    \n",
    "            score = svm_clf.score(surf.transform(X_test), y_test)\n",
    "\n",
    "            scores.append(score)\n",
    "            \n",
    "        avg_score = sum(scores)/len(scores)\n",
    "        avg_scores.append(avg_score)\n",
    "        print(\"For {} Features, Average Classification Score of {}\".format(num_features, avg_score))\n",
    "    \n",
    "    return avg_scores \n",
    "\n",
    "\n",
    "    "
   ]
  },
  {
   "cell_type": "code",
   "execution_count": 106,
   "metadata": {
    "scrolled": false
   },
   "outputs": [
    {
     "name": "stdout",
     "output_type": "stream",
     "text": [
      "Training Set Size: (43680, 768), Test Set Size: (5222, 768)\n"
     ]
    },
    {
     "name": "stderr",
     "output_type": "stream",
     "text": [
      "C:\\Users\\hfran\\Anaconda3\\lib\\site-packages\\sklearn\\model_selection\\_split.py:2026: FutureWarning: From version 0.21, test_size will always complement train_size unless both are specified.\n",
      "  FutureWarning)\n"
     ]
    },
    {
     "name": "stdout",
     "output_type": "stream",
     "text": [
      "Created distance array in 0.2426457405090332 seconds.\n",
      "Feature scoring under way ...\n",
      "Completed scoring in 116.55160999298096 seconds.\n",
      "Training Set Size: (43876, 768), Test Set Size: (5026, 768)\n",
      "Created distance array in 0.21468639373779297 seconds.\n",
      "Feature scoring under way ...\n",
      "Completed scoring in 117.74836945533752 seconds.\n",
      "Training Set Size: (43680, 768), Test Set Size: (5222, 768)\n",
      "Created distance array in 0.20703864097595215 seconds.\n",
      "Feature scoring under way ...\n",
      "Completed scoring in 115.66888999938965 seconds.\n",
      "Training Set Size: (41846, 768), Test Set Size: (7056, 768)\n",
      "Created distance array in 0.20654964447021484 seconds.\n",
      "Feature scoring under way ...\n",
      "Completed scoring in 126.04182696342468 seconds.\n",
      "Training Set Size: (43610, 768), Test Set Size: (5292, 768)\n",
      "Created distance array in 0.2055211067199707 seconds.\n",
      "Feature scoring under way ...\n",
      "Completed scoring in 119.39170742034912 seconds.\n",
      "Training Set Size: (43744, 768), Test Set Size: (5158, 768)\n",
      "Created distance array in 0.19054508209228516 seconds.\n",
      "Feature scoring under way ...\n",
      "Completed scoring in 119.16734457015991 seconds.\n",
      "Training Set Size: (42532, 768), Test Set Size: (6370, 768)\n",
      "Created distance array in 0.1895143985748291 seconds.\n",
      "Feature scoring under way ...\n",
      "Completed scoring in 122.19805717468262 seconds.\n",
      "Training Set Size: (46162, 768), Test Set Size: (2740, 768)\n",
      "Created distance array in 0.18549346923828125 seconds.\n",
      "Feature scoring under way ...\n",
      "Completed scoring in 115.1927273273468 seconds.\n",
      "Training Achieved Score of  0.5616511754996001\n",
      "For 250 Features, Average Classification Score of 0.5610887871106277\n",
      "For 225 Features, Average Classification Score of 0.4953588389431705\n",
      "For 200 Features, Average Classification Score of 0.6076129190271473\n",
      "For 175 Features, Average Classification Score of 0.5707760334734961\n",
      "For 150 Features, Average Classification Score of 0.58410960863798\n",
      "For 125 Features, Average Classification Score of 0.5757622901225905\n",
      "For 100 Features, Average Classification Score of 0.5532170946611026\n",
      "For 75 Features, Average Classification Score of 0.5845001224595371\n",
      "For 50 Features, Average Classification Score of 0.60954491879183\n",
      "For 25 Features, Average Classification Score of 0.5471787684352944\n",
      "Wall time: 1h 12min 4s\n"
     ]
    }
   ],
   "source": [
    "%%time \n",
    "surf_preic_diff = []\n",
    "training_loop(all_dat, all_ictals, surf_preic_diff)\n",
    "avg_scores = testing_loop(all_dat,all_ictals,surf_preic_diff)"
   ]
  },
  {
   "cell_type": "code",
   "execution_count": 94,
   "metadata": {},
   "outputs": [],
   "source": [
    "rankings = collections.defaultdict(float)\n",
    "for surf in surfs3:\n",
    "    surf_importances = surf[0].top_features_\n",
    "    for i,f in enumerate(surf_importances):\n",
    "        rankings[f] += (len(surf_importances)-i)/len(surf_importances)\n",
    "\n",
    "        "
   ]
  },
  {
   "cell_type": "code",
   "execution_count": 96,
   "metadata": {},
   "outputs": [
    {
     "data": {
      "text/plain": [
       "Text(0.5,1,'Relative Feature Importances for 8 Classifiers')"
      ]
     },
     "execution_count": 96,
     "metadata": {},
     "output_type": "execute_result"
    },
    {
     "data": {
      "image/png": "[encoded data removed]",
      "text/plain": [
       "<Figure size 432x288 with 1 Axes>"
      ]
     },
     "metadata": {},
     "output_type": "display_data"
    }
   ],
   "source": [
    "plt.bar(rankings.keys(), rankings.values())\n",
    "plt.title(\"Relative Feature Importances for {} Classifiers\".format(len(surfs3)))"
   ]
  },
  {
   "cell_type": "code",
   "execution_count": 99,
   "metadata": {},
   "outputs": [
    {
     "data": {
      "text/plain": [
       "Text(0.5,0,'Number of Features')"
      ]
     },
     "execution_count": 99,
     "metadata": {},
     "output_type": "execute_result"
    },
    {
     "data": {
      "image/png": "[encoded data removed]",
      "text/plain": [
       "<Figure size 432x288 with 1 Axes>"
      ]
     },
     "metadata": {},
     "output_type": "display_data"
    }
   ],
   "source": [
    "plt.plot(range(250,10,-25), avg_scores)\n",
    "plt.ylabel(\"Average CV Score\")\n",
    "plt.title(\"CV SCore vs # Features\")\n",
    "plt.xlabel(\"Number of Features\")"
   ]
  },
  {
   "cell_type": "code",
   "execution_count": 135,
   "metadata": {},
   "outputs": [
    {
     "data": {
      "image/png": "[encoded data removed]",
      "text/plain": [
       "<Figure size 432x288 with 1 Axes>"
      ]
     },
     "metadata": {},
     "output_type": "display_data"
    },
    {
     "data": {
      "image/png": "[encoded data removed]",
      "text/plain": [
       "<Figure size 432x288 with 1 Axes>"
      ]
     },
     "metadata": {},
     "output_type": "display_data"
    },
    {
     "data": {
      "image/png": "[encoded data removed]",
      "text/plain": [
       "<Figure size 432x288 with 1 Axes>"
      ]
     },
     "metadata": {},
     "output_type": "display_data"
    }
   ],
   "source": [
    "def generate_feature_names(feature_list):\n",
    "    \"\"\" Generating the feature names\"\"\"\n",
    "    if isinstance(feature_list, int):\n",
    "        n = feature_list\n",
    "    else:\n",
    "        n = len(feature_list)\n",
    "    A, B, C = 1, 1, 1\n",
    "    features = []\n",
    "    for i in range(n):\n",
    "        #features.append(('A{}'.format(A), 'B{}'.format(B), 'C{}'.format(C)))\n",
    "        features.append([A,B,C])\n",
    "        A = A + 1 if (A < 7) else 1\n",
    "        B = B + 1 if (B < 6 and A == 1) else 1 if (A == 1) else B\n",
    "        C = C + 1 if (B == 1 and A == 1) else C\n",
    "    return features\n",
    "\n",
    "def make_barplot(data, label):\n",
    "    fig = plt.figure()\n",
    "    t = list(data.items())\n",
    "    t.sort(key=lambda tup: tup[1], reverse=True)\n",
    "    k = len(data.items())\n",
    "    x = [_[0] for _ in t][:k]\n",
    "    y = [_[1] for _ in t][:k]\n",
    "    y_pos = np.arange(k)\n",
    "    plt.barh(y_pos, y[:k])\n",
    "    plt.yticks(y_pos, x[:k])\n",
    "    plt.ylabel(label + \" Number\")\n",
    "    plt.xlabel(\"Aggregate Importance from Top 10\")\n",
    "    plt.title(label + \" Importance with SURF-SVM\")\n",
    "    \n",
    "\n",
    "feature_names = generate_feature_names(X_train.shape[1])\n",
    "alpha_usage = collections.defaultdict(int)\n",
    "channel_usage = collections.defaultdict(int)\n",
    "band_usage = collections.defaultdict(int)\n",
    "\n",
    "\n",
    "features= []\n",
    "for surf in surfs3:\n",
    "    top_idx = np.argsort(surf[0].feature_importances_)[-10:]\n",
    "    for f in top_idx:\n",
    "        # get the best channel by occrence\n",
    "        channel_usage[feature_names[f][2]] += surf[0].feature_importances_[f]\n",
    "        alpha_usage[feature_names[f][0]] += surf[0].feature_importances_[f]\n",
    "        band_usage[feature_names[f][1]] += surf[0].feature_importances_[f]\n",
    "\n",
    "        features.append(feature_names[f][2])\n",
    "        \n",
    "make_barplot(channel_usage, \"Channel\")\n",
    "make_barplot(alpha_usage, \"Alpha\")\n",
    "make_barplot(band_usage, \"Band\")\n",
    "\n",
    "        \n"
   ]
  },
  {
   "cell_type": "code",
   "execution_count": null,
   "metadata": {},
   "outputs": [],
   "source": []
  }
 ],
 "metadata": {
  "kernelspec": {
   "display_name": "Python 3",
   "language": "python",
   "name": "python3"
  },
  "language_info": {
   "codemirror_mode": {
    "name": "ipython",
    "version": 3
   },
   "file_extension": ".py",
   "mimetype": "text/x-python",
   "name": "python",
   "nbconvert_exporter": "python",
   "pygments_lexer": "ipython3",
   "version": "3.6.5"
  }
 },
 "nbformat": 4,
 "nbformat_minor": 2
}
